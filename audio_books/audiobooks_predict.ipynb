{
 "cells": [
  {
   "cell_type": "code",
   "execution_count": 1,
   "metadata": {},
   "outputs": [],
   "source": [
    "import numpy as np\n",
    "import tensorflow as tf"
   ]
  },
  {
   "cell_type": "code",
   "execution_count": 2,
   "metadata": {},
   "outputs": [],
   "source": [
    "npz = np.load('Audiobooks_data_train.npz')\n",
    "\n",
    "train_inputs = npz['inputs'].astype(np.float)\n",
    "train_targets = npz['targets'].astype(np.int)\n",
    "\n",
    "npz = np.load('Audiobooks_data_validation.npz')\n",
    "validation_inputs, validation_targets = npz['inputs'].astype(np.float), npz['targets'].astype(np.int)\n",
    "\n",
    "npz = np.load('Audiobooks_data_test.npz')\n",
    "test_inputs, test_targets = npz['inputs'].astype(np.float), npz['targets'].astype(np.int)"
   ]
  },
  {
   "cell_type": "code",
   "execution_count": 3,
   "metadata": {},
   "outputs": [
    {
     "name": "stdout",
     "output_type": "stream",
     "text": [
      "Epoch 1/100\n",
      "36/36 - 1s - loss: 0.5460 - accuracy: 0.7133 - val_loss: 0.4885 - val_accuracy: 0.7427\n",
      "Epoch 2/100\n",
      "36/36 - 0s - loss: 0.4474 - accuracy: 0.7692 - val_loss: 0.4269 - val_accuracy: 0.7919\n",
      "Epoch 3/100\n",
      "36/36 - 0s - loss: 0.4071 - accuracy: 0.7946 - val_loss: 0.3989 - val_accuracy: 0.8009\n",
      "Epoch 4/100\n",
      "36/36 - 0s - loss: 0.3850 - accuracy: 0.8016 - val_loss: 0.3867 - val_accuracy: 0.7830\n",
      "Epoch 5/100\n",
      "36/36 - 0s - loss: 0.3718 - accuracy: 0.8013 - val_loss: 0.3728 - val_accuracy: 0.8054\n",
      "Epoch 6/100\n",
      "36/36 - 0s - loss: 0.3637 - accuracy: 0.8047 - val_loss: 0.3651 - val_accuracy: 0.8054\n",
      "Epoch 7/100\n",
      "36/36 - 0s - loss: 0.3573 - accuracy: 0.8069 - val_loss: 0.3617 - val_accuracy: 0.8188\n",
      "Epoch 8/100\n",
      "36/36 - 0s - loss: 0.3531 - accuracy: 0.8103 - val_loss: 0.3574 - val_accuracy: 0.8166\n",
      "Epoch 9/100\n",
      "36/36 - 0s - loss: 0.3472 - accuracy: 0.8108 - val_loss: 0.3538 - val_accuracy: 0.8098\n",
      "Epoch 10/100\n",
      "36/36 - 0s - loss: 0.3444 - accuracy: 0.8134 - val_loss: 0.3589 - val_accuracy: 0.8031\n",
      "Epoch 11/100\n",
      "36/36 - 0s - loss: 0.3417 - accuracy: 0.8100 - val_loss: 0.3540 - val_accuracy: 0.8255\n"
     ]
    },
    {
     "data": {
      "text/plain": [
       "<tensorflow.python.keras.callbacks.History at 0x1b748b549d0>"
      ]
     },
     "execution_count": 3,
     "metadata": {},
     "output_type": "execute_result"
    }
   ],
   "source": [
    "input_size = 10\n",
    "output_size = 2\n",
    "hidden_layer_size = 50\n",
    "    \n",
    "model = tf.keras.Sequential([\n",
    "    tf.keras.layers.Dense(hidden_layer_size, activation='relu'), # 1st hidden layer\n",
    "    tf.keras.layers.Dense(hidden_layer_size, activation='relu'), # 2nd hidden layer\n",
    "    tf.keras.layers.Dense(output_size, activation='softmax') # output layer\n",
    "])\n",
    "\n",
    "\n",
    "\n",
    "model.compile(optimizer='adam', loss='sparse_categorical_crossentropy', metrics=['accuracy'])\n",
    "\n",
    "batch_size = 100\n",
    "\n",
    "max_epochs = 100\n",
    "\n",
    "early_stopping = tf.keras.callbacks.EarlyStopping(patience=2)\n",
    "\n",
    "model.fit(train_inputs, # train inputs\n",
    "          train_targets, # train targets\n",
    "          batch_size=batch_size, # batch size\n",
    "          epochs=max_epochs, # epochs that we will train for (assuming early stopping doesn't kick in)\n",
    "          callbacks=[early_stopping], # early stopping\n",
    "          validation_data=(validation_inputs, validation_targets), # validation data\n",
    "          verbose = 2 # making sure we get enough information about the training process\n",
    "          )"
   ]
  },
  {
   "cell_type": "code",
   "execution_count": 4,
   "metadata": {},
   "outputs": [
    {
     "name": "stdout",
     "output_type": "stream",
     "text": [
      "14/14 [==============================] - 0s 1ms/step - loss: 0.3119 - accuracy: 0.8549\n"
     ]
    }
   ],
   "source": [
    "test_loss, test_accuracy = model.evaluate(test_inputs, test_targets)"
   ]
  },
  {
   "cell_type": "code",
   "execution_count": 6,
   "metadata": {},
   "outputs": [
    {
     "name": "stdout",
     "output_type": "stream",
     "text": [
      "\n",
      "Test loss: 0.31. Test accuracy: 85.49%\n"
     ]
    }
   ],
   "source": [
    "print('\\nTest loss: {0:.2f}. Test accuracy: {1:.2f}%'.format(test_loss, test_accuracy*100.))"
   ]
  }
 ],
 "metadata": {
  "kernelspec": {
   "display_name": "Python 3",
   "language": "python",
   "name": "python3"
  },
  "language_info": {
   "codemirror_mode": {
    "name": "ipython",
    "version": 3
   },
   "file_extension": ".py",
   "mimetype": "text/x-python",
   "name": "python",
   "nbconvert_exporter": "python",
   "pygments_lexer": "ipython3",
   "version": "3.8.5"
  }
 },
 "nbformat": 4,
 "nbformat_minor": 4
}
